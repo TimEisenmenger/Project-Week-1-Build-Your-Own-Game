{
 "cells": [
  {
   "cell_type": "markdown",
   "metadata": {},
   "source": [
    "# Project 1: Building TicTacToe in Python"
   ]
  },
  {
   "cell_type": "markdown",
   "metadata": {},
   "source": [
    "## Structure:"
   ]
  },
  {
   "cell_type": "code",
   "execution_count": 31,
   "metadata": {},
   "outputs": [],
   "source": [
    "# 1. First of all we need to create the Playground of Tic Tac Toe.\n",
    "\n",
    "# 2. To play Tic Tac Toe we need to players and their names. \n",
    "# --> Input: Player 1 & Input: Player 2\n",
    "# 3. We need a function to decide who starts the game. In addition we need to signal the person who didn' start that its his/her turn.\n",
    "\n",
    "# 4. Function for placing the Symbols on the Playground\n",
    "# --> Check if the space which is targeted is empty:\n",
    "        # - if yes, place it there\n",
    "        # - if no, advice to go for another field on the Playground\n",
    "        \n",
    "# 5. When do we have a winner? \n",
    "    # - Declare winning condition\n",
    "    # - Player wins, if he has 3 of his Symbols in a row\n",
    "\n",
    "# 6. Make sure when its a Tie\n",
    "    \n",
    "# 6. Ask the players if they want to play again"
   ]
  },
  {
   "cell_type": "markdown",
   "metadata": {},
   "source": [
    "## Creating the Game Board:"
   ]
  },
  {
   "cell_type": "code",
   "execution_count": 173,
   "metadata": {},
   "outputs": [],
   "source": [
    "board = {\"1\": \" \", \"2\": \" \", \"3\": \" \" ,\n",
    "         \"4\": \" \", \"5\": \" \", \"6\": \" \" ,\n",
    "         \"7\": \" \", \"8\": \" \", \"9\": \" \" }"
   ]
  },
  {
   "cell_type": "code",
   "execution_count": 174,
   "metadata": {},
   "outputs": [],
   "source": [
    "\n",
    "\n",
    "\n",
    "def game_board(board):\n",
    "    '''\n",
    "    Creates our game board\n",
    "    Input: Dictionary with 9 keys and empty values\n",
    "    Output: Prints updated game board\n",
    "    '''\n",
    "    \n",
    "    \n",
    "    print(board[\"1\"] + \"|\" + board[\"2\"] + \"|\" + board[\"3\"])\n",
    "    print(\"-----\")\n",
    "    print(board[\"4\"] + \"|\" + board[\"5\"] + \"|\" + board[\"6\"])\n",
    "    print(\"-----\")\n",
    "    print(board[\"7\"] + \"|\" + board[\"8\"] + \"|\" + board[\"9\"])\n"
   ]
  },
  {
   "cell_type": "code",
   "execution_count": 175,
   "metadata": {},
   "outputs": [
    {
     "name": "stdout",
     "output_type": "stream",
     "text": [
      " | | \n",
      "-----\n",
      " | | \n",
      "-----\n",
      " | | \n"
     ]
    }
   ],
   "source": [
    "game_board(board)"
   ]
  },
  {
   "cell_type": "markdown",
   "metadata": {},
   "source": [
    "## Defining Players Names and randomly chose who starts"
   ]
  },
  {
   "cell_type": "code",
   "execution_count": 176,
   "metadata": {
    "scrolled": true
   },
   "outputs": [
    {
     "name": "stdout",
     "output_type": "stream",
     "text": [
      "Player_1, please enter your name here: Tim\n",
      "Player_2, please enter your name here: Max\n"
     ]
    },
    {
     "data": {
      "text/plain": [
       "'Max starts the game! Your Symbol is X'"
      ]
     },
     "execution_count": 176,
     "metadata": {},
     "output_type": "execute_result"
    }
   ],
   "source": [
    "# a = Name Player 1\n",
    "# b = Name Player 2\n",
    "\n",
    "\n",
    "def starting_player(a,b):\n",
    "    '''\n",
    "    Implements players names and randomly picks who starts the game\n",
    "    Input:\n",
    "    a = Input Name Player 1\n",
    "    b = Input Name Player 2\n",
    "    Output:\n",
    "    Returns random Player out of a,b\n",
    "    '''\n",
    "    a = input(\"Player_1, please enter your name here: \")\n",
    "    b = input(\"Player_2, please enter your name here: \")\n",
    "    \n",
    "    import random\n",
    "    \n",
    "    players = [a, b]\n",
    "    return(random.choice(players) + \" \" + \"starts the game!\" + \" \" + \"Your Symbol is X\")\n",
    "\n",
    "starting_player(a,b)    \n"
   ]
  },
  {
   "cell_type": "markdown",
   "metadata": {},
   "source": [
    "## Setup Function to put Symbols on the game board"
   ]
  },
  {
   "cell_type": "code",
   "execution_count": 177,
   "metadata": {},
   "outputs": [],
   "source": [
    "def game():\n",
    "    '''\n",
    "    Function to place players symbols on the game board\n",
    "    Input:\n",
    "    Number between 1 und 10\n",
    "    Output:\n",
    "    Checks if the field is empty or not:\n",
    "    1. if yes -> put the symbol there\n",
    "    2. if no -> tell the player to chose again\n",
    "        \n",
    "    '''\n",
    "    cross = \"X\"\n",
    "    circle = \"O\"\n",
    "    \n",
    "    for i in range(10):\n",
    "        print(game_board(board))\n",
    "        print(\"               \")\n",
    "        print(\"It's your turn, \" + cross + \".\" + \" \" + \"Where do you want to move?\")\n",
    "        \n",
    "        z = str(input())\n",
    "        \n",
    "        if board[z] == \" \":\n",
    "            board[z] = cross\n",
    "        else: \n",
    "            print(\"SHIT!\" + \"This position is already filled.\" + \" Please chose another one!\")\n",
    "            continue\n",
    "            \n",
    "        \n",
    "        if cross == \"X\":\n",
    "            cross = \"O\"\n",
    "        else:\n",
    "            cross = \"X\"\n",
    "            "
   ]
  },
  {
   "cell_type": "markdown",
   "metadata": {},
   "source": [
    "## Set up winning condition"
   ]
  },
  {
   "cell_type": "code",
   "execution_count": null,
   "metadata": {},
   "outputs": [],
   "source": []
  }
 ],
 "metadata": {
  "kernelspec": {
   "display_name": "Python 3",
   "language": "python",
   "name": "python3"
  },
  "language_info": {
   "codemirror_mode": {
    "name": "ipython",
    "version": 3
   },
   "file_extension": ".py",
   "mimetype": "text/x-python",
   "name": "python",
   "nbconvert_exporter": "python",
   "pygments_lexer": "ipython3",
   "version": "3.8.5"
  }
 },
 "nbformat": 4,
 "nbformat_minor": 4
}
