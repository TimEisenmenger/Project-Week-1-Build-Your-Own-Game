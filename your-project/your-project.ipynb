{
 "cells": [
  {
   "cell_type": "markdown",
   "metadata": {},
   "source": [
    "# Project 1: Building TicTacToe in Python"
   ]
  },
  {
   "cell_type": "markdown",
   "metadata": {},
   "source": [
    "## Structure:"
   ]
  },
  {
   "cell_type": "code",
   "execution_count": 1,
   "metadata": {},
   "outputs": [],
   "source": [
    "# 1. First of all we need to create the Playground of Tic Tac Toe.\n",
    "\n",
    "# 2. To play Tic Tac Toe we need to players and their names. \n",
    "# --> Input: Player 1 & Input: Player 2\n",
    "# 3. We need a function to decide who starts the game. In addition we need to signal the person who didn' start that its his/her turn.\n",
    "\n",
    "# 4. FWhen do we have a winner? \n",
    "    # - Declare winning condition\n",
    "    # - Player wins, if he has 3 of his Symbols in a row\n",
    "        \n",
    "# 5. Game Function:\n",
    "# --> Check if the space which is targeted is empty:\n",
    "        # - if yes, place it there\n",
    "        # - if no, advice to go for another field on the Playground\n",
    "      # Makes sure when its a tie.  \n",
    "    \n",
    "# 6. Ask the players if they want to play again"
   ]
  },
  {
   "cell_type": "code",
   "execution_count": 2,
   "metadata": {},
   "outputs": [
    {
     "name": "stdout",
     "output_type": "stream",
     "text": [
      "Welcome to my fist project!\n"
     ]
    }
   ],
   "source": [
    "print(\"Welcome to my fist project!\")"
   ]
  },
  {
   "cell_type": "markdown",
   "metadata": {},
   "source": [
    "## Creating the Game Board:"
   ]
  },
  {
   "cell_type": "markdown",
   "metadata": {},
   "source": [
    "## Defining Players Names and randomly chose who starts:"
   ]
  },
  {
   "cell_type": "code",
   "execution_count": 158,
   "metadata": {
    "scrolled": true
   },
   "outputs": [],
   "source": [
    "# a = Name Player 1\n",
    "# b = Name Player 2\n",
    "import random\n",
    "\n",
    "def starting_player():\n",
    "    '''\n",
    "    Implements players names and randomly picks who starts the game\n",
    "    Input:\n",
    "    a = Input Name Player 1\n",
    "    b = Input Name Player 2\n",
    "    Output:\n",
    "    Returns random Player out of a,b\n",
    "    '''\n",
    "    a = input(\"Player 1, please enter your name here: \")\n",
    "    b = input(\"Player 2, please enter your name here: \")\n",
    "    \n",
    "\n",
    "    players = [a, b]\n",
    "    player_1 = random.choice(players)\n",
    "    player_1 = player_1.title()\n",
    "    \n",
    "    for i in players:\n",
    "        if i.lower() != player_1.lower():\n",
    "            player_2 = i.title()\n",
    "    sorted_players = [player_1, player_2]\n",
    "    print(\"\\n\")\n",
    "    print(player_1 + \" \" + \"starts the game!\" + \" \" + \"Your Symbol is X\")\n",
    "    print(\"\\n\")\n",
    "    return sorted_players\n",
    "  \n",
    "\n",
    "\n"
   ]
  },
  {
   "cell_type": "markdown",
   "metadata": {},
   "source": [
    "## Defining winning condition:\n"
   ]
  },
  {
   "cell_type": "code",
   "execution_count": 159,
   "metadata": {},
   "outputs": [],
   "source": [
    "def winner(count, board, sorted_player, index):\n",
    "    if index == 1:\n",
    "        index = 0\n",
    "    elif index == 0:\n",
    "        index = 1\n",
    "    if count >= 5 and count <9:\n",
    "                if board[\"1\"] == board[\"2\"] == board[\"3\"] != \" \":\n",
    "                    board\n",
    "                    print(\"Congratulation \" + sorted_player[index] +\"! \" + \"You won the game!!\")\n",
    "                    return True\n",
    "                elif board[\"4\"] == board[\"5\"] == board[\"6\"] != \" \":\n",
    "                    board\n",
    "                    print(\"Congratulation \" + sorted_player[index] +\"! \" + \"You won the game!!\")\n",
    "                    return True\n",
    "                elif board[\"7\"] == board[\"8\"] == board[\"9\"] != \" \":\n",
    "                    bord\n",
    "                    print(\"Congratulation \" + sorted_player[index] +\"! \" + \"You won the game!!\")\n",
    "                    return True\n",
    "                elif board[\"1\"] == board[\"4\"] == board[\"7\"] != \" \":\n",
    "                    board\n",
    "                    print(\"Congratulation \" + sorted_player[index] +\"! \" + \"You won the game!!\")\n",
    "                    return True\n",
    "                elif board[\"2\"] == board[\"5\"] == board[\"8\"] != \" \":\n",
    "                    board\n",
    "                    print(\"Congratulation \" + sorted_player[index] +\"! \" + \"You won the game!!\")\n",
    "                    return True\n",
    "                elif board[\"3\"] == board[\"6\"] == board[\"9\"] != \" \":\n",
    "                    board\n",
    "                    print(\"Congratulation \" + sorted_player[index] +\"! \" + \"You won the game!!\")\n",
    "                    return True \n",
    "                elif board[\"1\"] == board[\"5\"] == board[\"9\"] != \" \":\n",
    "                    board\n",
    "                    print(\"Congratulation \" + sorted_player[index] +\"! \" + \"You won the game!!\")\n",
    "                    return True         \n",
    "                elif board[\"3\"] == board[\"5\"] == board[\"7\"] != \" \":\n",
    "                    board\n",
    "                    print(\"Congratulation \" + sorted_player[index] +\"! \" + \"You won the game!!\")\n",
    "                    return True\n",
    "    elif count == 9:\n",
    "        board\n",
    "        print(\"No winner this time. It's a tie!\")\n",
    "        return True"
   ]
  },
  {
   "cell_type": "markdown",
   "metadata": {},
   "source": []
  },
  {
   "cell_type": "markdown",
   "metadata": {},
   "source": [
    "## Setup game function:"
   ]
  },
  {
   "cell_type": "code",
   "execution_count": 154,
   "metadata": {},
   "outputs": [],
   "source": [
    "def game(sorted_players):\n",
    "    '''\n",
    "    Function to place players symbols on the game board\n",
    "    Input:\n",
    "    Number between 1 und 10\n",
    "    Output:\n",
    "    Checks if the field is empty or not:\n",
    "    1. if yes -> put the symbol there\n",
    "    2. if no -> tell the player to chose again\n",
    "        \n",
    "    '''\n",
    "    \n",
    "    cross = \"X\"\n",
    "    circle = \"O\"\n",
    "    index = 0\n",
    "    M = True\n",
    "    count = 0\n",
    "    board = {\"1\": \" \", \"2\": \" \", \"3\": \" \" ,\n",
    "         \"4\": \" \", \"5\": \" \", \"6\": \" \" ,\n",
    "         \"7\": \" \", \"8\": \" \", \"9\": \" \" }\n",
    "    \n",
    "    \n",
    "    for i in range(10):\n",
    "        print(\"\\n\")\n",
    "        print(\" _________________\\n|     |     |     |\\n|  \"+board[\"1\"]+\"  |  \"+board[\"2\"]+\"  |  \"+board[\"3\"]+\n",
    "      \"  |\\n|_____|_____|_____|\\n|     |     |     |\\n|  \"+board[\"4\"]+\"  |  \"+board[\"5\"]+\"  |  \"+board[\"6\"]+\n",
    "      \"  |\\n|_____|_____|_____|\\n|     |     |     |\\n|  \"+board[\"7\"]+\"  |  \"+board[\"8\"]+\"  |  \"+board[\"9\"]+\n",
    "      \"  |\\n|_____|_____|_____|\")\n",
    "        print(\"\\n\")\n",
    "\n",
    "        if winner(count,board, sorted_players, index):\n",
    "            l = (input(\"Want to Play again? Enter YES!: \"))\n",
    "            if l == \"YES\":\n",
    "                list_player = starting_player()\n",
    "                game(list_player)\n",
    "            else:\n",
    "                break\n",
    "        \n",
    "        print(\"It's your turn, \" + sorted_players[index] + \".\" + \" Where do you want to move?\")\n",
    "        \n",
    "\n",
    "        while M:\n",
    "            z = str(input())\n",
    "            if index == 0:\n",
    "                if board[z] == \" \":\n",
    "                    board[z] = cross\n",
    "                    M = False\n",
    "                else: \n",
    "                    print(\"SHIT!\" + \"This position is already filled.\" + \" Please choose another one!\")\n",
    "                    continue\n",
    "            elif  index == 1:  \n",
    "                if board[z] == \" \":\n",
    "                    board[z] = circle\n",
    "                    M = False\n",
    "                else: \n",
    "                    print(\"SHIT!\" + \"This position is already filled.\" + \" Please choose another one!\")\n",
    "                    continue\n",
    "\n",
    "        \n",
    "\n",
    "\n",
    "        if index == 0:\n",
    "            index = 1\n",
    "            M = True\n",
    "        else:\n",
    "            index = 0\n",
    "            M = True\n",
    "\n",
    "        count += 1"
   ]
  },
  {
   "cell_type": "code",
   "execution_count": 155,
   "metadata": {},
   "outputs": [],
   "source": [
    "def full_game_function():\n",
    "    list_player = starting_player()\n",
    "    game(list_player)\n",
    "   "
   ]
  },
  {
   "cell_type": "markdown",
   "metadata": {},
   "source": [
    "## Finally! Here comes the fun part:"
   ]
  },
  {
   "cell_type": "code",
   "execution_count": null,
   "metadata": {},
   "outputs": [
    {
     "name": "stdout",
     "output_type": "stream",
     "text": [
      "Hello World! This is my first Project. ENJOY! :)\n",
      "\n",
      "\n",
      "In case you dont care about reading the READ ME.file: The game board looks like this:\n",
      "\n",
      "\n",
      " _________________\n",
      "|     |     |     |\n",
      "|  1  |  2  |  3  |\n",
      "|_____|_____|_____|\n",
      "|     |     |     |\n",
      "|  4  |  5  |  6  |\n",
      "|_____|_____|_____|\n",
      "|     |     |     |\n",
      "|  7  |  8  |  9  |\n",
      "|_____|_____|_____|\n",
      "\n",
      "\n"
     ]
    }
   ],
   "source": [
    "board_wn = {\"1\": \"1\", \"2\": \"2\", \"3\": \"3\" ,\n",
    "            \"4\": \"4\", \"5\": \"5\", \"6\": \"6\" ,\n",
    "            \"7\": \"7\", \"8\": \"8\", \"9\": \"9\" }\n",
    "\n",
    "print(\"Hello World! This is my first Project. ENJOY! :)\")\n",
    "print(\"\\n\")\n",
    "print(\"In case you dont care about reading the READ ME.file: The game board looks like this:\")\n",
    "print(\"\\n\")\n",
    "print(\" _________________\\n|     |     |     |\\n|  \"+board_wn[\"1\"]+\"  |  \"+board_wn[\"2\"]+\"  |  \"+board_wn[\"3\"]+\n",
    "      \"  |\\n|_____|_____|_____|\\n|     |     |     |\\n|  \"+board_wn[\"4\"]+\"  |  \"+board_wn[\"5\"]+\"  |  \"+board_wn[\"6\"]+\n",
    "      \"  |\\n|_____|_____|_____|\\n|     |     |     |\\n|  \"+board_wn[\"7\"]+\"  |  \"+board_wn[\"8\"]+\"  |  \"+board_wn[\"9\"]+\n",
    "      \"  |\\n|_____|_____|_____|\")\n",
    "\n",
    "print(\"\\n\")\n",
    "\n",
    "full_game_function()"
   ]
  },
  {
   "cell_type": "code",
   "execution_count": null,
   "metadata": {},
   "outputs": [],
   "source": []
  }
 ],
 "metadata": {
  "kernelspec": {
   "display_name": "Python 3",
   "language": "python",
   "name": "python3"
  },
  "language_info": {
   "codemirror_mode": {
    "name": "ipython",
    "version": 3
   },
   "file_extension": ".py",
   "mimetype": "text/x-python",
   "name": "python",
   "nbconvert_exporter": "python",
   "pygments_lexer": "ipython3",
   "version": "3.8.5"
  }
 },
 "nbformat": 4,
 "nbformat_minor": 4
}
